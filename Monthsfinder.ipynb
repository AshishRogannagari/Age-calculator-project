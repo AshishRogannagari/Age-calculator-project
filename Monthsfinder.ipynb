{
 "cells": [
  {
   "cell_type": "code",
   "execution_count": 14,
   "metadata": {},
   "outputs": [],
   "source": [
    "from age_calculator import AgeCalculator\n"
   ]
  },
  {
   "cell_type": "code",
   "execution_count": 15,
   "metadata": {},
   "outputs": [
    {
     "name": "stdout",
     "output_type": "stream",
     "text": [
      "Ashish's age is 25 years or 311 months or 9465 days.\n"
     ]
    }
   ],
   "source": [
    "from age_calculator import AgeCalculator\n",
    "\n",
    "# Take user input for name and age\n",
    "name = input(\"Enter your name: \")\n",
    "age = input(\"Enter your age: \")\n",
    "\n",
    "# Create an instance of AgeCalculator\n",
    "age_calculator = AgeCalculator(name, age)\n",
    "\n",
    "# Calculate age and print the result\n",
    "result = age_calculator.calculate_age()\n",
    "print(result)\n"
   ]
  }
 ],
 "metadata": {
  "kernelspec": {
   "display_name": "Python 3",
   "language": "python",
   "name": "python3"
  },
  "language_info": {
   "codemirror_mode": {
    "name": "ipython",
    "version": 3
   },
   "file_extension": ".py",
   "mimetype": "text/x-python",
   "name": "python",
   "nbconvert_exporter": "python",
   "pygments_lexer": "ipython3",
   "version": "3.10.4"
  }
 },
 "nbformat": 4,
 "nbformat_minor": 2
}
